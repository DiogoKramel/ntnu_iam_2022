{
 "cells": [
  {
   "cell_type": "code",
   "execution_count": 1,
   "id": "9361b64b",
   "metadata": {},
   "outputs": [
    {
     "data": {
      "application/javascript": [
       "if (typeof IPython !== 'undefined') { IPython.OutputArea.prototype._should_scroll = function(lines){ return false; }}"
      ],
      "text/plain": [
       "<IPython.core.display.Javascript object>"
      ]
     },
     "metadata": {},
     "output_type": "display_data"
    }
   ],
   "source": [
    "# load packages\n",
    "import ixmp                    # package for ix modeling platform\n",
    "import message_ix              # package for MESSAGEix model\n",
    "from message_ix.utils import make_df"
   ]
  },
  {
   "cell_type": "code",
   "execution_count": 2,
   "id": "c3cd5e19",
   "metadata": {},
   "outputs": [],
   "source": [
    "# Loading the platform (and getting conected to a local database)\n",
    "mp = ixmp.Platform(\"local\")"
   ]
  },
  {
   "cell_type": "code",
   "execution_count": 3,
   "id": "0a58fc9e",
   "metadata": {},
   "outputs": [],
   "source": [
    "# create empty scenario\n",
    "baseline = message_ix.Scenario(mp, model='MESSAGEix South Africa', \n",
    "                               scenario='baseline', version='new')"
   ]
  },
  {
   "cell_type": "code",
   "execution_count": null,
   "id": "bd2975f2",
   "metadata": {},
   "outputs": [],
   "source": [
    "# read South Africa model from Excel (init_items = True is important as this scenario also includes MACRO)\n",
    "baseline.read_excel(\"../resources/MESSAGEix_South_Africa.xlsx\", add_units=True, commit_steps=False, init_items=True)"
   ]
  },
  {
   "cell_type": "code",
   "execution_count": null,
   "id": "cc1f691e",
   "metadata": {},
   "outputs": [],
   "source": [
    "# solve baseline scenario\n",
    "baseline.solve()"
   ]
  },
  {
   "cell_type": "code",
   "execution_count": null,
   "id": "ef896008",
   "metadata": {},
   "outputs": [],
   "source": [
    "# check objective function value\n",
    "baseline.var('OBJ')"
   ]
  },
  {
   "cell_type": "code",
   "execution_count": null,
   "id": "6de933f5",
   "metadata": {},
   "outputs": [],
   "source": [
    "# check emissions\n",
    "baseline.var('EMISS')"
   ]
  },
  {
   "cell_type": "code",
   "execution_count": null,
   "id": "fd855476",
   "metadata": {},
   "outputs": [],
   "source": [
    "# clone baseline scenario for modification\n",
    "scenario = baseline.clone('MESSAGEix South Africa', 'emission budget','copy of the baseline scenario with added emission constraint',\n",
    "                  keep_solution=False)"
   ]
  },
  {
   "cell_type": "code",
   "execution_count": null,
   "id": "9369e957",
   "metadata": {},
   "outputs": [],
   "source": [
    "# check out scenario for editing\n",
    "scenario.check_out()"
   ]
  },
  {
   "cell_type": "code",
   "execution_count": null,
   "id": "8f4fbd05",
   "metadata": {},
   "outputs": [],
   "source": [
    "# add cumulative emission constraint for CO2\n",
    "scenario.add_par('bound_emission', ['South Africa', 'CO2', 'all', 'cumulative'],\n",
    "             value=600., unit='MtCO2')"
   ]
  },
  {
   "cell_type": "code",
   "execution_count": null,
   "id": "0578ba0f",
   "metadata": {},
   "outputs": [],
   "source": [
    "# list units defined on platform\n",
    "mp.units()"
   ]
  },
  {
   "cell_type": "code",
   "execution_count": null,
   "id": "97b12ade",
   "metadata": {},
   "outputs": [],
   "source": [
    "# add MtCO2 as unit to platform\n",
    "mp.add_unit(\"MtCO2\")"
   ]
  },
  {
   "cell_type": "code",
   "execution_count": null,
   "id": "6bd5d8d3",
   "metadata": {},
   "outputs": [],
   "source": [
    "# commit scenario to platform\n",
    "scenario.commit(\"added cumulative CO2 emission constraint\")"
   ]
  },
  {
   "cell_type": "code",
   "execution_count": null,
   "id": "cf064a82",
   "metadata": {},
   "outputs": [],
   "source": [
    "# solve scenario with CO2 emission budget\n",
    "scenario.solve()"
   ]
  },
  {
   "cell_type": "code",
   "execution_count": null,
   "id": "61b35bfd",
   "metadata": {},
   "outputs": [],
   "source": [
    "# check objective function value\n",
    "scenario.var('OBJ')"
   ]
  },
  {
   "cell_type": "code",
   "execution_count": null,
   "id": "1164668b",
   "metadata": {},
   "outputs": [],
   "source": [
    "# check emissions\n",
    "scenario.var('EMISS')"
   ]
  },
  {
   "cell_type": "code",
   "execution_count": null,
   "id": "e4f06518",
   "metadata": {},
   "outputs": [],
   "source": [
    "# close platform connection\n",
    "mp.close_db()"
   ]
  },
  {
   "cell_type": "code",
   "execution_count": null,
   "id": "53b38fa3",
   "metadata": {},
   "outputs": [],
   "source": []
  }
 ],
 "metadata": {
  "kernelspec": {
   "display_name": "Python 3 (ipykernel)",
   "language": "python",
   "name": "python3"
  },
  "language_info": {
   "codemirror_mode": {
    "name": "ipython",
    "version": 3
   },
   "file_extension": ".py",
   "mimetype": "text/x-python",
   "name": "python",
   "nbconvert_exporter": "python",
   "pygments_lexer": "ipython3",
   "version": "3.10.2"
  }
 },
 "nbformat": 4,
 "nbformat_minor": 5
}
