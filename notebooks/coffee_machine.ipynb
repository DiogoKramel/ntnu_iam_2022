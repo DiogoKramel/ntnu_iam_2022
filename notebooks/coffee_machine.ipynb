{
 "cells": [
  {
   "cell_type": "markdown",
   "metadata": {},
   "source": [
    "# Very simple model\n",
    "This is my jupyter notebook from MESSAGEix workshop. If I double click on this \"Markdown\" cell, I can edit the text.\n"
   ]
  },
  {
   "cell_type": "code",
   "execution_count": null,
   "metadata": {},
   "outputs": [],
   "source": [
    "# This is a \"Code\" cell.\n",
    "# Importing required packages\n",
    "\n",
    "import ixmp                    # package for ix modeling platform\n",
    "import message_ix              # package for MESSAGEix model\n",
    "from message_ix.utils import make_df"
   ]
  },
  {
   "cell_type": "code",
   "execution_count": null,
   "metadata": {},
   "outputs": [],
   "source": [
    "# Loading the platform (and getting conected to a local database)\n",
    "mp = ixmp.Platform()\n",
    "# The path to my local database should be seen after running this cell"
   ]
  },
  {
   "cell_type": "code",
   "execution_count": null,
   "metadata": {},
   "outputs": [],
   "source": [
    "# Building a new, empty MESSAGEix scenario\n",
    "model = 'coffee_machine'\n",
    "scenario = 'test'\n",
    "new = message_ix.Scenario(mp, model, scenario,  version='new')"
   ]
  },
  {
   "cell_type": "code",
   "execution_count": null,
   "metadata": {},
   "outputs": [],
   "source": [
    "# Look for some information\n",
    "new.version\n",
    "new?\n",
    "# new??"
   ]
  },
  {
   "cell_type": "markdown",
   "metadata": {},
   "source": [
    "# Adding data to the model\n",
    "## 1) Declaring members of the sets"
   ]
  },
  {
   "cell_type": "code",
   "execution_count": null,
   "metadata": {},
   "outputs": [],
   "source": [
    "new.add_set('technology', ['coffee_maker', 'electricity_grid', 'water_pipe', 'coffee_torrefaction'])\n",
    "new.add_set('commodity', ['water', 'electr', 'coffee_beans', 'coffee_cup'])       # all members can be added at once\n",
    "new.add_set('level', ['pipe', 'storage', 'grid', 'useful'])"
   ]
  },
  {
   "cell_type": "code",
   "execution_count": null,
   "metadata": {},
   "outputs": [],
   "source": [
    "# Seeing members of a set\n",
    "#new.set('commodity')\n",
    "new.set('technology')"
   ]
  },
  {
   "cell_type": "code",
   "execution_count": null,
   "metadata": {},
   "outputs": [],
   "source": [
    "# Again, like before\n",
    "new.add_set('node', 'my_home')\n",
    "new.add_set('year', [2022, 2023])\n",
    "new.add_set('mode', 'normal')    # modes of operation of a technology"
   ]
  },
  {
   "cell_type": "code",
   "execution_count": null,
   "metadata": {},
   "outputs": [],
   "source": [
    "# listing all the sets (we don't have to add data for all)\n",
    "new.set_list()"
   ]
  },
  {
   "cell_type": "markdown",
   "metadata": {},
   "source": [
    "## 2. Adding data to parameters"
   ]
  },
  {
   "cell_type": "code",
   "execution_count": null,
   "metadata": {},
   "outputs": [],
   "source": [
    "new.par_list()"
   ]
  },
  {
   "cell_type": "code",
   "execution_count": null,
   "metadata": {},
   "outputs": [],
   "source": [
    "# List of parameters\n",
    "new.par_list()\n",
    "# a python notation\n",
    "[x for x in new.par_list() if 'emission' in x]"
   ]
  },
  {
   "cell_type": "markdown",
   "metadata": {},
   "source": [
    "### Adding data to parameter \"demand\" \n",
    "We can always see the indexes of a parameter and make a table with those indexes (plus \"value\" and \"unit\"). The method is `idx_names()`\n"
   ]
  },
  {
   "cell_type": "code",
   "execution_count": null,
   "metadata": {},
   "outputs": [],
   "source": [
    "# Required indexes (sets) for parameter \"demand\"\n",
    "new.idx_names(\"demand\")"
   ]
  },
  {
   "cell_type": "code",
   "execution_count": null,
   "metadata": {},
   "outputs": [],
   "source": [
    "# Building the required table (python DataFrame)\n",
    "import pandas as pd\n",
    "df = pd.DataFrame({'node': 'my_home',\n",
    "                   'commodity': 'coffee_cup',\n",
    "                   'level': 'useful',\n",
    "                   'year': [2022, 2023],\n",
    "                   'value': [450, 500],    # cup of coffee per year\n",
    "                   'unit': '-',\n",
    "                   'time': 'year'\n",
    "                   })"
   ]
  },
  {
   "cell_type": "code",
   "execution_count": null,
   "metadata": {},
   "outputs": [],
   "source": [
    "new.add_par('demand', df)\n",
    "new.par('demand')"
   ]
  },
  {
   "cell_type": "code",
   "execution_count": null,
   "metadata": {},
   "outputs": [],
   "source": [
    "new.idx_names(\"input\")"
   ]
  },
  {
   "cell_type": "code",
   "execution_count": null,
   "metadata": {},
   "outputs": [],
   "source": [
    "new.idx_names('output')"
   ]
  },
  {
   "cell_type": "code",
   "execution_count": null,
   "metadata": {},
   "outputs": [],
   "source": [
    "new.idx_names('var_cost')"
   ]
  },
  {
   "cell_type": "markdown",
   "metadata": {},
   "source": [
    "## Add technologies for commodities"
   ]
  },
  {
   "cell_type": "code",
   "execution_count": null,
   "metadata": {},
   "outputs": [],
   "source": [
    "new.add_set('technology',['coal_pwr','dark_roaster','municipal_distr_net'])"
   ]
  },
  {
   "cell_type": "markdown",
   "metadata": {},
   "source": [
    "## Add variable costs for commodities"
   ]
  },
  {
   "cell_type": "code",
   "execution_count": null,
   "metadata": {},
   "outputs": [],
   "source": [
    "costs = {'municipal_distr_net':3,'coal_pwr':20,'dark_roaster':600} # cost of water, electricity, coffee beans\n",
    "tecs = ['coal_pwr','dark_roaster','municipal_distr_net']\n",
    "base_df = pd.DataFrame({'node_loc':'my_home','year_vtg':[2022,2023],'year_act':[2022,2023],'mode':'normal','time':'year','unit':'-'})\n",
    "for tec, value in costs.items():\n",
    "    df = make_df(base_df,technology=tec,value=value)\n",
    "    new.add_par('var_cost',df)"
   ]
  },
  {
   "cell_type": "code",
   "execution_count": null,
   "metadata": {},
   "outputs": [],
   "source": [
    "new.par('var_cost')"
   ]
  },
  {
   "cell_type": "markdown",
   "metadata": {},
   "source": [
    "## Add inputs to coffee machine"
   ]
  },
  {
   "cell_type": "code",
   "execution_count": null,
   "metadata": {},
   "outputs": [],
   "source": [
    "#add water network\n",
    "df = pd.DataFrame({'node_loc':'my_home', 'technology':'municipal_distr_net','node_origin':'my_home','node_dest':'my_home','mode':'normal',\n",
    "                   'commodity': 'water','year_vtg':[2022,2023],'year_act': [2022,2023], \n",
    "                   'level':'pipe','time':'year','time_origin':'year','time_dest':'year','value':1,'unit':'kg'})\n",
    "# ['pipe', 'storage', 'grid', 'useful']\n",
    "\n",
    "new.add_par('output',df)"
   ]
  },
  {
   "cell_type": "code",
   "execution_count": null,
   "metadata": {},
   "outputs": [],
   "source": [
    "# water input to coffee machine\n",
    "df = pd.DataFrame({'node_loc':'my_home', 'technology':'coffee_maker','node_origin':'my_home','mode':'normal',\n",
    "                   'commodity': 'water','year_vtg':[2022,2023],'year_act': [2022,2023],\n",
    "                   'level':'pipe','time':'year','time_origin':'year','value':8,'unit':'kg'})\n",
    "new.add_par('input',df)"
   ]
  },
  {
   "cell_type": "code",
   "execution_count": null,
   "metadata": {},
   "outputs": [],
   "source": [
    "#add electricity\n",
    "df = pd.DataFrame({'node_loc':'my_home', 'technology':'coal_pwr','node_origin':'my_home','node_dest':'my_home','mode':'normal',\n",
    "                   'commodity': 'electr','year_vtg':[2022,2023],'year_act': [2022,2023],\n",
    "                   'level':'grid','time':'year','time_origin':'year','time_dest':'year','value':1,'unit':'-'})\n",
    "# ['pipe', 'storage', 'grid', 'useful']\n",
    "\n",
    "new.add_par('output',df)"
   ]
  },
  {
   "cell_type": "code",
   "execution_count": null,
   "metadata": {},
   "outputs": [],
   "source": [
    "# electricity input to coffee machine\n",
    "\n",
    "df = pd.DataFrame({'node_loc':'my_home', 'technology':'coal_pwr','node_origin':'my_home','mode':'normal',\n",
    "                   'commodity': 'electr','year_vtg':[2022,2023],'year_act': [2022,2023],\n",
    "                   'level':'grid','time':'year','time_origin':'year','value':3,'unit':'-'})\n",
    "\n",
    "new.add_par('input',df)"
   ]
  },
  {
   "cell_type": "code",
   "execution_count": null,
   "metadata": {},
   "outputs": [],
   "source": [
    "#add beans\n",
    "df = pd.DataFrame({'node_loc':'my_home', 'technology':'dark_roaster','node_origin':'my_home','mode':'normal',\n",
    "                   'commodity': 'coffee_beans','year_vtg':[2022,2023],'year_act': [2022,2023],\n",
    "                   'level':'storage','time':'year','time_origin':'year','value':1,'unit':'kg'})\n",
    "# ['pipe', 'storage', 'grid', 'useful']\n",
    "\n",
    "new.add_par('input',df)"
   ]
  },
  {
   "cell_type": "code",
   "execution_count": null,
   "metadata": {},
   "outputs": [],
   "source": [
    "# coffee input to coffee machine\n",
    "df = pd.DataFrame({'node_loc':'my_home', 'technology':'dark_roaster','node_origin':'my_home','node_dest':'my_home','mode':'normal',\n",
    "                   'commodity': 'coffee_beans','year_vtg':[2022,2023],'year_act': [2022,2023],\n",
    "                   'level':'storage','time':'year','time_origin':'year','time_dest':'year','value':5,'unit':'kg'})\n",
    "\n",
    "new.add_par('output',df)"
   ]
  },
  {
   "cell_type": "code",
   "execution_count": null,
   "metadata": {},
   "outputs": [],
   "source": [
    "new.par('input')"
   ]
  },
  {
   "cell_type": "code",
   "execution_count": null,
   "metadata": {},
   "outputs": [],
   "source": [
    "# Adding data to the parameter \"output\" for the technology\n",
    "df = pd.DataFrame({'node_loc': 'my_home',\n",
    "                   'node_dest': 'my_home',\n",
    "                   'technology': 'coffee_maker',\n",
    "                   'commodity': 'coffee_cup',\n",
    "                   'level': 'useful',\n",
    "                   'year_vtg': [2022, 2023],   # once installed can be active only one period\n",
    "                   'year_act': [2022, 2023],\n",
    "                   'mode': 'normal',\n",
    "                   'value': 1,\n",
    "                   'unit': '-',\n",
    "                   'time': 'year',\n",
    "                   'time_dest': 'year',\n",
    "                    })\n",
    "new.add_par('output', df)"
   ]
  },
  {
   "cell_type": "code",
   "execution_count": null,
   "metadata": {},
   "outputs": [],
   "source": [
    "# Adding data to the parameter \"output\" for the technology coffee_torrefaction\n",
    "df = pd.DataFrame({'node_loc': 'my_home',\n",
    "                   'node_dest': 'my_home',\n",
    "                   'technology': 'coffee_torrefaction',\n",
    "                   'commodity': 'coffee_beans',\n",
    "                   'level': 'useful',\n",
    "                   'year_vtg': [2022, 2023],   # once installed can be active only one period\n",
    "                   'year_act': [2022, 2023],\n",
    "                   'mode': 'normal',\n",
    "                   'value': 1,\n",
    "                   'unit': '-',\n",
    "                   'time': 'year',\n",
    "                   'time_dest': 'year',\n",
    "                    })\n",
    "new.add_par('output', df)"
   ]
  },
  {
   "cell_type": "code",
   "execution_count": null,
   "metadata": {},
   "outputs": [],
   "source": [
    "# Adding data to the parameter \"output\" for the technology electricity_grid\n",
    "df = pd.DataFrame({'node_loc': 'my_home',\n",
    "                   'node_dest': 'my_home',\n",
    "                   'technology': 'electricity_grid',\n",
    "                   'commodity': 'electr',\n",
    "                   'level': 'useful',\n",
    "                   'year_vtg': [2022, 2023],   # once installed can be active only one period\n",
    "                   'year_act': [2022, 2023],\n",
    "                   'mode': 'normal',\n",
    "                   'value': 1,\n",
    "                   'unit': '-',\n",
    "                   'time': 'year',\n",
    "                   'time_dest': 'year',\n",
    "                    })\n",
    "new.add_par('output', df)"
   ]
  },
  {
   "cell_type": "code",
   "execution_count": null,
   "metadata": {},
   "outputs": [],
   "source": [
    "# Adding data to the parameter \"output\" for the technology water_pipe\n",
    "df = pd.DataFrame({'node_loc': 'my_home',\n",
    "                   'node_dest': 'my_home',\n",
    "                   'technology': 'water_pipe',\n",
    "                   'commodity': 'water',\n",
    "                   'level': 'useful',\n",
    "                   'year_vtg': [2022, 2023],   # once installed can be active only one period\n",
    "                   'year_act': [2022, 2023],\n",
    "                   'mode': 'normal',\n",
    "                   'value': 1,\n",
    "                   'unit': '-',\n",
    "                   'time': 'year',\n",
    "                   'time_dest': 'year',\n",
    "                    })\n",
    "new.add_par('output', df)"
   ]
  },
  {
   "cell_type": "code",
   "execution_count": null,
   "metadata": {},
   "outputs": [],
   "source": [
    "# Seeing the content of a parameter\n",
    "new.par('output')"
   ]
  },
  {
   "cell_type": "code",
   "execution_count": null,
   "metadata": {},
   "outputs": [],
   "source": [
    "new.par_list()"
   ]
  },
  {
   "cell_type": "code",
   "execution_count": null,
   "metadata": {},
   "outputs": [],
   "source": [
    "water_in = pd.DataFrame({'node_loc': 'my_home',\n",
    "                   'node_origin': 'my_home',\n",
    "                   'technology': 'coffee_maker',\n",
    "                   'commodity': 'water',\n",
    "                   'level': 'useful',\n",
    "                   'year_vtg': [2022, 2023],   # once installed can be active only one period\n",
    "                   'year_act': [2022, 2023],\n",
    "                   'mode': 'normal',\n",
    "                   'value': 10.,\n",
    "                   'unit': '-',\n",
    "                   'time': 'year',\n",
    "                   'time_origin': 'year',\n",
    "                    })\n",
    "new.add_par('input', water_in)\n",
    "new.par('input')"
   ]
  },
  {
   "cell_type": "code",
   "execution_count": null,
   "metadata": {},
   "outputs": [],
   "source": [
    "coffee_beans_in = pd.DataFrame({'node_loc': 'my_home',\n",
    "                   'node_origin': 'my_home',\n",
    "                   'technology': 'coffee_maker',\n",
    "                   'commodity': 'coffee_beans',\n",
    "                   'level': 'useful',\n",
    "                   'year_vtg': [2022, 2023],   # once installed can be active only one period\n",
    "                   'year_act': [2022, 2023],\n",
    "                   'mode': 'normal',\n",
    "                   'value': 0.03,\n",
    "                   'unit': '-',\n",
    "                   'time': 'year',\n",
    "                   'time_origin': 'year',\n",
    "                    })\n",
    "new.add_par('input', coffee_beans_in)\n",
    "new.par('input')"
   ]
  },
  {
   "cell_type": "code",
   "execution_count": null,
   "metadata": {},
   "outputs": [],
   "source": [
    "elec_in = pd.DataFrame({'node_loc': 'my_home',\n",
    "                   'node_origin': 'my_home',\n",
    "                   'technology': 'coffee_maker',\n",
    "                   'commodity': 'electr',\n",
    "                   'level': 'useful',\n",
    "                   'year_vtg': [2022, 2023],   # once installed can be active only one period\n",
    "                   'year_act': [2022, 2023],\n",
    "                   'mode': 'normal',\n",
    "                   'value': 0.1,\n",
    "                   'unit': '-',\n",
    "                   'time': 'year',\n",
    "                   'time_origin': 'year',\n",
    "                    })\n",
    "new.add_par('input', elec_in)\n",
    "new.par('input')"
   ]
  },
  {
   "cell_type": "code",
   "execution_count": null,
   "metadata": {},
   "outputs": [],
   "source": [
    "from message_ix.utils import make_df\n",
    "\n",
    "base_var_cost = {\n",
    "    'node_loc': 'my_home',\n",
    "    'year_vtg': [2022, 2023],\n",
    "    'year_act': [2022, 2023],\n",
    "    'mode': 'normal',\n",
    "    'time': 'year',\n",
    "    'unit': '-',\n",
    "}\n",
    "# in $ / MWh\n",
    "costs = {\n",
    "    'coffee_maker': 0.1,\n",
    "    'electricity_grid': 0.1,\n",
    "    'water_pipe': 0.01,\n",
    "    'coffee_torrefaction': 30\n",
    "}\n",
    "\n",
    "\n",
    "for tec, val in costs.items():\n",
    "    df = make_df(base_var_cost, technology=tec, value=val)\n",
    "    new.add_par('var_cost', df)"
   ]
  },
  {
   "cell_type": "markdown",
   "metadata": {},
   "source": []
  },
  {
   "cell_type": "code",
   "execution_count": null,
   "metadata": {},
   "outputs": [],
   "source": [
    "# Saving the data of this scenario\n",
    "new.commit('I added some data for a coffee maker including costs')   # This message is optional\n",
    "# If needed to edit after saving the scenario\n",
    "# new.check_out()                 "
   ]
  },
  {
   "cell_type": "code",
   "execution_count": null,
   "metadata": {},
   "outputs": [],
   "source": [
    "new.version"
   ]
  },
  {
   "cell_type": "code",
   "execution_count": null,
   "metadata": {},
   "outputs": [],
   "source": [
    "# Lets' solve this simple scenario\n",
    "new.solve()"
   ]
  },
  {
   "cell_type": "code",
   "execution_count": null,
   "metadata": {},
   "outputs": [],
   "source": [
    "# Objective value (why is it zero?)\n",
    "new.var('OBJ')"
   ]
  },
  {
   "cell_type": "code",
   "execution_count": null,
   "metadata": {},
   "outputs": [],
   "source": [
    "# Activity of coffee maker\n",
    "\n",
    "# should not have marginals; just levels\n",
    "new.var('ACT')"
   ]
  },
  {
   "cell_type": "code",
   "execution_count": null,
   "metadata": {},
   "outputs": [],
   "source": [
    "# commodity prices as calculated by the model\n",
    "new.var('PRICE_COMMODITY')"
   ]
  },
  {
   "cell_type": "code",
   "execution_count": null,
   "metadata": {},
   "outputs": [],
   "source": [
    "# export model parameterization to Excel\n",
    "new.to_excel(\"coffee_machine.xlsx\")"
   ]
  },
  {
   "cell_type": "code",
   "execution_count": null,
   "metadata": {},
   "outputs": [],
   "source": [
    "# NOTICE: remember to close the platform before openning in another session\n",
    "mp.close_db()"
   ]
  },
  {
   "cell_type": "code",
   "execution_count": null,
   "metadata": {},
   "outputs": [],
   "source": []
  }
 ],
 "metadata": {
  "kernelspec": {
   "display_name": "Python 3",
   "language": "python",
   "name": "python3"
  },
  "language_info": {
   "codemirror_mode": {
    "name": "ipython",
    "version": 3
   },
   "file_extension": ".py",
   "mimetype": "text/x-python",
   "name": "python",
   "nbconvert_exporter": "python",
   "pygments_lexer": "ipython3",
   "version": "3.7.10"
  }
 },
 "nbformat": 4,
 "nbformat_minor": 2
}
